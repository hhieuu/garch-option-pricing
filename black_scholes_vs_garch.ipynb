{
  "nbformat": 4,
  "nbformat_minor": 0,
  "metadata": {
    "kernelspec": {
      "display_name": "Python 3",
      "language": "python",
      "name": "python3"
    },
    "language_info": {
      "codemirror_mode": {
        "name": "ipython",
        "version": 3
      },
      "file_extension": ".py",
      "mimetype": "text/x-python",
      "name": "python",
      "nbconvert_exporter": "python",
      "pygments_lexer": "ipython3",
      "version": "3.6.5"
    },
    "colab": {
      "name": "Projet Économétrie.ipynb",
      "provenance": []
    }
  },
  "cells": [
    {
      "cell_type": "markdown",
      "metadata": {
        "id": "jbbHc1C-Tdsg",
        "colab_type": "text"
      },
      "source": [
        "# Financial Econometrics"
      ]
    },
    {
      "cell_type": "markdown",
      "metadata": {
        "id": "lzObmTLLTdsu",
        "colab_type": "text"
      },
      "source": [
        "**Author :** Hamada ZEINE "
      ]
    },
    {
      "cell_type": "markdown",
      "metadata": {
        "id": "2cht9Ss-xee1",
        "colab_type": "text"
      },
      "source": [
        ""
      ]
    },
    {
      "cell_type": "markdown",
      "metadata": {
        "id": "eenmWzyPTds9",
        "colab_type": "text"
      },
      "source": [
        "**Pricing a Call option for a garch process**"
      ]
    },
    {
      "cell_type": "code",
      "metadata": {
        "id": "WEfV-C15TdtC",
        "colab_type": "code",
        "colab": {}
      },
      "source": [
        "import numpy as np\n",
        "\n",
        "Omega = 0.0994 #GARCH Parameter Omega\n",
        "beta = 0.7162 #GARCH Parameter associated with lagged variance term\n",
        "alpha = 0.1883 #GARCH Parameter associated with lagged innovation\n",
        "lamba = 0 #Risk premium\n",
        "H0 = Omega/(1-(1+lamba)*alpha-beta) #initial variance\n",
        "\n",
        "S0 = 1 #initial stock price\n",
        "K = 1 #strike price\n",
        "r = 0.05 #risk-free interest rate\n",
        "t = 0 #start time\n",
        "Td = 250 #time in days\n",
        "i = 50000 #number of simulations\n",
        "discount_factor = np.exp(-r*(Td/250)) #discount factor\n",
        "dt = np.dtype(np.float16)\n",
        "\n",
        "h = np.zeros([i,Td], dtype = dt)\n",
        "e = np.zeros([i,Td], dtype = dt)\n",
        "t = range(0,Td,1)\n",
        "S = S0*np.ones([i], dtype = dt)\n",
        "DH = np.ones([i], dtype = dt)\n",
        "z = np.random.standard_normal([i,Td])\n"
      ],
      "execution_count": 0,
      "outputs": []
    },
    {
      "cell_type": "code",
      "metadata": {
        "id": "j8vxGFw-TdtR",
        "colab_type": "code",
        "colab": {}
      },
      "source": [
        "for x in range(0,i-1):\n",
        "    h[x,0] = H0\n",
        "    e[x,0] = H0*np.random.normal(0,1,)\n",
        "for y in range(0,Td-1):\n",
        "    h[x,y+1] = Omega + h[x,y]*(beta + alpha*z[x,y]**2)\n",
        "    e[x,y+1] = np.sqrt(h[x,y+1])*z[x,y+1]"
      ],
      "execution_count": 0,
      "outputs": []
    },
    {
      "cell_type": "code",
      "metadata": {
        "id": "eMQ5a-89Tdtm",
        "colab_type": "code",
        "colab": {}
      },
      "source": [
        "P=np.ones([i], dtype = dt)\n",
        "#for x in range(0,Td):\n",
        "#    P[x] = np.exp(e[range(x)].sum())\n",
        "\n",
        "\n",
        "for x in range(0,i):\n",
        "     P[x] = S[x]*np.exp(sum(e[x,:]))\n",
        "#DH[x] = np.exp(-0.5*sumh[x] + sume[x])\n",
        "\n"
      ],
      "execution_count": 0,
      "outputs": []
    },
    {
      "cell_type": "code",
      "metadata": {
        "id": "HJW63IqfTduC",
        "colab_type": "code",
        "colab": {}
      },
      "source": [
        "# à t = 0 the price of the call option\n",
        "for x in range(0,i):\n",
        "    S[x] = np.exp(-r*Td)*np.maximum(P[x] - K, 0)\n",
        "\n",
        "CallPrice = np.average(S)"
      ],
      "execution_count": 0,
      "outputs": []
    },
    {
      "cell_type": "code",
      "metadata": {
        "id": "z9atA6ckTduQ",
        "colab_type": "code",
        "outputId": "73d7f25d-f8a1-41e6-8a2e-0fa4ea4f4f9d",
        "colab": {
          "base_uri": "https://localhost:8080/",
          "height": 34
        }
      },
      "source": [
        "CallPrice"
      ],
      "execution_count": 0,
      "outputs": [
        {
          "output_type": "execute_result",
          "data": {
            "text/plain": [
              "3.6e-06"
            ]
          },
          "metadata": {
            "tags": []
          },
          "execution_count": 5
        }
      ]
    },
    {
      "cell_type": "markdown",
      "metadata": {
        "id": "03uv25BVTduj",
        "colab_type": "text"
      },
      "source": [
        "**Monte Carlo Simulation**"
      ]
    },
    {
      "cell_type": "code",
      "metadata": {
        "id": "ofuzHhYXTdup",
        "colab_type": "code",
        "colab": {}
      },
      "source": [
        "def rendement(s):\n",
        "    res=np.zeros(len(s))+1\n",
        "    for i in range(1,len(s)):\n",
        "        res[i]=np.log(s[i]/s[i-1])\n",
        "    return res"
      ],
      "execution_count": 0,
      "outputs": []
    },
    {
      "cell_type": "code",
      "metadata": {
        "id": "wdyJatTlTdu1",
        "colab_type": "code",
        "colab": {}
      },
      "source": [
        "R=rendement(P)"
      ],
      "execution_count": 0,
      "outputs": []
    },
    {
      "cell_type": "code",
      "metadata": {
        "id": "xYgqHYGwTdvD",
        "colab_type": "code",
        "outputId": "380c479d-fe98-41a4-c439-100f970da610",
        "colab": {
          "base_uri": "https://localhost:8080/",
          "height": 34
        }
      },
      "source": [
        "np.average(R)"
      ],
      "execution_count": 0,
      "outputs": [
        {
          "output_type": "execute_result",
          "data": {
            "text/plain": [
              "-1.7552289962768556e-05"
            ]
          },
          "metadata": {
            "tags": []
          },
          "execution_count": 10
        }
      ]
    },
    {
      "cell_type": "markdown",
      "metadata": {
        "id": "cOWC286bTdvX",
        "colab_type": "text"
      },
      "source": [
        "**Numerically study how the price the option depends on the value of the ratio S/K(the ratio S/K could range from 0.5 to 2)**"
      ]
    },
    {
      "cell_type": "code",
      "metadata": {
        "id": "TokBZqAjTdve",
        "colab_type": "code",
        "colab": {}
      },
      "source": [
        "from math import exp, log, sqrt, pi"
      ],
      "execution_count": 0,
      "outputs": []
    },
    {
      "cell_type": "code",
      "metadata": {
        "id": "AYXf90l_Tdvs",
        "colab_type": "code",
        "colab": {}
      },
      "source": [
        "from scipy.stats import norm"
      ],
      "execution_count": 0,
      "outputs": []
    },
    {
      "cell_type": "code",
      "metadata": {
        "id": "xiCGzIYCTdv3",
        "colab_type": "code",
        "colab": {}
      },
      "source": [
        "def d_j(j, S, K, r, v, T):\n",
        "    \"\"\"\n",
        "    d_j = \\frac{log(\\frac{S}{K})+(r+(-1)^{j-1} \\frac{1}{2}v^2)T}{v sqrt(T)}\n",
        "    \"\"\"\n",
        "    return (log(S/K) + (r + ((-1)**(j-1))*0.5*v*v)*T)/(v*(T**0.5))\n",
        "def GARCH_call_price(S, K, r, v, T):\n",
        "    \"\"\"\n",
        "    Price of a European call option struck at K, with\n",
        "    spot S, constant rate r, constant vol v (over the\n",
        "    life of the option) and time to maturity T\n",
        "    \"\"\"\n",
        "    return S * norm.cdf(d_j(1, S, K, r, v, T)) - \\\n",
        "        K*exp(-r*T) * norm.cdf(d_j(2, S, K, r, v, T))"
      ],
      "execution_count": 0,
      "outputs": []
    },
    {
      "cell_type": "code",
      "metadata": {
        "id": "OGUr2lP6TdwR",
        "colab_type": "code",
        "colab": {}
      },
      "source": [
        "s=np.arange(1,20)\n",
        "k=np.arange(1,20)\n",
        "res=np.array([1,1])\n",
        "for i in np.arange(len(s)):\n",
        "    for j in np.arange(len(k)):\n",
        "        if s[i]/k[j]>0.2 and s[i]/k[j]<=2:\n",
        "            res = np.vstack([res, [s[i],k[j]]])"
      ],
      "execution_count": 0,
      "outputs": []
    },
    {
      "cell_type": "code",
      "metadata": {
        "id": "N_qIr3NLTdwd",
        "colab_type": "code",
        "colab": {}
      },
      "source": [
        "s_k=res[1:]\n",
        "#matrix2.remove(matrix[0])"
      ],
      "execution_count": 0,
      "outputs": []
    },
    {
      "cell_type": "code",
      "metadata": {
        "id": "-7OwEO5TTdwn",
        "colab_type": "code",
        "outputId": "f43113d7-01cf-41fe-aff4-529b8244fc0d",
        "colab": {
          "base_uri": "https://localhost:8080/",
          "height": 34
        }
      },
      "source": [
        "s_k.shape"
      ],
      "execution_count": 0,
      "outputs": [
        {
          "output_type": "execute_result",
          "data": {
            "text/plain": [
              "(250, 2)"
            ]
          },
          "metadata": {
            "tags": []
          },
          "execution_count": 15
        }
      ]
    },
    {
      "cell_type": "code",
      "metadata": {
        "id": "DTLY4IDbTdw1",
        "colab_type": "code",
        "colab": {}
      },
      "source": [
        "r_values = np.zeros(s_k.shape[0])\n",
        "for i in np.arange(s_k.shape[0]):\n",
        "    r_values[i]=s_k[i,0]/s_k[i,1]"
      ],
      "execution_count": 0,
      "outputs": []
    },
    {
      "cell_type": "code",
      "metadata": {
        "id": "XXlx1rQkTdxB",
        "colab_type": "code",
        "colab": {}
      },
      "source": [
        "call_values = np.zeros(s_k.shape[0])\n",
        "for i in np.arange(s_k.shape[0]):\n",
        "    call_values[i] = GARCH_call_price(s_k[i,0], s_k[i,1], r=0.05, v=5, T=250)\n"
      ],
      "execution_count": 0,
      "outputs": []
    },
    {
      "cell_type": "code",
      "metadata": {
        "id": "NAgotpXVTdxL",
        "colab_type": "code",
        "outputId": "8d48cb02-0a7d-40c2-83e7-5f3f0698a694",
        "colab": {
          "base_uri": "https://localhost:8080/",
          "height": 265
        }
      },
      "source": [
        "import matplotlib.pyplot as plt\n",
        "\n",
        "\n",
        "plt.scatter(r_values, call_values)\n",
        "plt.show()"
      ],
      "execution_count": 0,
      "outputs": [
        {
          "output_type": "display_data",
          "data": {
            "image/png": "[encoded data removed]",
            "text/plain": [
              "<Figure size 432x288 with 1 Axes>"
            ]
          },
          "metadata": {
            "tags": []
          }
        }
      ]
    },
    {
      "cell_type": "markdown",
      "metadata": {
        "id": "8yEDzSdJTdxa",
        "colab_type": "text"
      },
      "source": [
        "\n",
        "**Computing the values of the implied volatility for the different values of the moneyness S/K**"
      ]
    },
    {
      "cell_type": "code",
      "metadata": {
        "id": "hE3DKNeWTdxh",
        "colab_type": "code",
        "colab": {}
      },
      "source": [
        "\n",
        "impvol_values = np.zeros(s_k.shape[0])\n",
        "for i in np.arange(1,s_k.shape[0]):\n",
        "    epsilon = 1.0  #  Define variable to check stopping conditions\n",
        "    abstol = 1e-4  #  Stop calculation when abs(epsilon) < this number\n",
        "\n",
        "    j = 0   #  Variable to count number of iterations\n",
        "    max_iter = 1e3  #  Max number of iterations before aborting\n",
        "    vol = 0.5\n",
        "    while epsilon > abstol:\n",
        "    #  if-statement to avoid getting stuck in an infinite loop.\n",
        "        if j > max_iter:\n",
        "            break\n",
        "\n",
        "        j = j + 1\n",
        "        orig = vol\n",
        "        function_value=GARCH_call_price(s_k[i,0], s_k[i,1], r=0.05, v=0.5, T=250)-GARCH_call_price(s_k[0,0], s_k[0,1], r=0.05, v=0.5, T=250)\n",
        "        vega = s_k[i,0] * norm.cdf(d_j(1, S=s_k[i,0], K=s_k[i,1], r=0.05, v=0.5, T=250)) * Td**(0.5)\n",
        "        impvol_values[i] = abs(function_value)/vega + impvol_values[i-1]\n",
        "        epsilon = abs(function_value)\n",
        "    \n",
        "\n",
        "    "
      ],
      "execution_count": 0,
      "outputs": []
    },
    {
      "cell_type": "code",
      "metadata": {
        "id": "VpkTl1GvTdyD",
        "colab_type": "code",
        "outputId": "6a8696ba-22e6-441a-8ab2-f76bc52670bd",
        "colab": {}
      },
      "source": [
        "plt.scatter(r_values, impvol_values)\n",
        "plt.show()"
      ],
      "execution_count": 0,
      "outputs": [
        {
          "output_type": "display_data",
          "data": {
            "image/png": "[encoded data removed]",
            "text/plain": [
              "<Figure size 432x288 with 1 Axes>"
            ]
          },
          "metadata": {
            "tags": []
          }
        }
      ]
    }
  ]
}